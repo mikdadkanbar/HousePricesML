{
 "cells": [
  {
   "cell_type": "code",
   "execution_count": 12,
   "id": "9bc0c3b4",
   "metadata": {},
   "outputs": [
    {
     "data": {
      "text/plain": [
       "0          0\n",
       "1          1\n",
       "2          2\n",
       "3          3\n",
       "4          4\n",
       "        ... \n",
       "1455    1455\n",
       "1456    1456\n",
       "1457    1457\n",
       "1458    1458\n",
       "1459    1459\n",
       "Name: Unnamed: 0, Length: 1460, dtype: int64"
      ]
     },
     "execution_count": 12,
     "metadata": {},
     "output_type": "execute_result"
    }
   ],
   "source": [
    "\n",
    "import pandas as pd\n",
    "import numpy as np\n",
    "import matplotlib.pyplot as plt\n",
    "import seaborn as sns\n",
    "from sklearn.model_selection import train_test_split\n",
    "from sklearn.linear_model import LinearRegression\n",
    "from sklearn.metrics import mean_squared_error\n",
    "\n",
    "data_cleaned =  'https://raw.githubusercontent.com/mikdadkanbar/HousePricesML/main/data_cleaned.csv'\n",
    "\n",
    "data_ready = 'https://raw.githubusercontent.com/mikdadkanbar/HousePricesML/main/data_ready.csv'\n",
    "#data_ready is after creating the dummy variables \n",
    "df=pd.read_csv(data_ready)\n",
    " \n",
    "df.columns\n",
    "df.iloc[:,0]"
   ]
  },
  {
   "cell_type": "code",
   "execution_count": null,
   "id": "abfd0d6e",
   "metadata": {},
   "outputs": [],
   "source": []
  },
  {
   "cell_type": "code",
   "execution_count": null,
   "id": "b0fe12a0",
   "metadata": {},
   "outputs": [],
   "source": []
  },
  {
   "cell_type": "code",
   "execution_count": 10,
   "id": "b689d5e9",
   "metadata": {},
   "outputs": [
    {
     "data": {
      "text/plain": [
       "Index(['MSSubClass', 'OverallQual', 'YearRemodAdd', 'BsmtFinSF1', 'GarageArea',\n",
       "       'RoomsAndArea', 'Neighborhood_NoRidge', 'Neighborhood_NridgHt',\n",
       "       'BsmtExposure_Mn', 'SalePrice'],\n",
       "      dtype='object')"
      ]
     },
     "execution_count": 10,
     "metadata": {},
     "output_type": "execute_result"
    }
   ],
   "source": [
    "l= [ \"MSSubClass\"        ,   \"OverallQual\"    ,      \"YearRemodAdd\"        , \"BsmtFinSF1\"  ,        \n",
    "  \"GarageArea\"     ,      \"RoomsAndArea\"   ,      \"Neighborhood_NoRidge\" ,\"Neighborhood_NridgHt\",\n",
    "   \"BsmtExposure_Mn\" ,     \"SalePrice\"  ]  \n",
    "[x in df.columns for x in l]\n",
    "newdf= df.loc[:, l]\n",
    "newdf.columns\n"
   ]
  },
  {
   "cell_type": "code",
   "execution_count": 11,
   "id": "56cb8417",
   "metadata": {},
   "outputs": [
    {
     "data": {
      "text/html": [
       "<div>\n",
       "<style scoped>\n",
       "    .dataframe tbody tr th:only-of-type {\n",
       "        vertical-align: middle;\n",
       "    }\n",
       "\n",
       "    .dataframe tbody tr th {\n",
       "        vertical-align: top;\n",
       "    }\n",
       "\n",
       "    .dataframe thead th {\n",
       "        text-align: right;\n",
       "    }\n",
       "</style>\n",
       "<table border=\"1\" class=\"dataframe\">\n",
       "  <thead>\n",
       "    <tr style=\"text-align: right;\">\n",
       "      <th></th>\n",
       "      <th>MSSubClass</th>\n",
       "      <th>OverallQual</th>\n",
       "      <th>YearRemodAdd</th>\n",
       "      <th>BsmtFinSF1</th>\n",
       "      <th>GarageArea</th>\n",
       "      <th>RoomsAndArea</th>\n",
       "      <th>Neighborhood_NoRidge</th>\n",
       "      <th>Neighborhood_NridgHt</th>\n",
       "      <th>BsmtExposure_Mn</th>\n",
       "      <th>SalePrice</th>\n",
       "    </tr>\n",
       "  </thead>\n",
       "  <tbody>\n",
       "    <tr>\n",
       "      <th>0</th>\n",
       "      <td>60</td>\n",
       "      <td>7</td>\n",
       "      <td>2003</td>\n",
       "      <td>706</td>\n",
       "      <td>548</td>\n",
       "      <td>13680</td>\n",
       "      <td>0</td>\n",
       "      <td>0</td>\n",
       "      <td>0</td>\n",
       "      <td>208500</td>\n",
       "    </tr>\n",
       "    <tr>\n",
       "      <th>1</th>\n",
       "      <td>20</td>\n",
       "      <td>6</td>\n",
       "      <td>1976</td>\n",
       "      <td>978</td>\n",
       "      <td>460</td>\n",
       "      <td>7572</td>\n",
       "      <td>0</td>\n",
       "      <td>0</td>\n",
       "      <td>0</td>\n",
       "      <td>181500</td>\n",
       "    </tr>\n",
       "    <tr>\n",
       "      <th>2</th>\n",
       "      <td>60</td>\n",
       "      <td>7</td>\n",
       "      <td>2002</td>\n",
       "      <td>486</td>\n",
       "      <td>608</td>\n",
       "      <td>10716</td>\n",
       "      <td>0</td>\n",
       "      <td>0</td>\n",
       "      <td>1</td>\n",
       "      <td>223500</td>\n",
       "    </tr>\n",
       "    <tr>\n",
       "      <th>3</th>\n",
       "      <td>70</td>\n",
       "      <td>7</td>\n",
       "      <td>1970</td>\n",
       "      <td>216</td>\n",
       "      <td>642</td>\n",
       "      <td>12019</td>\n",
       "      <td>0</td>\n",
       "      <td>0</td>\n",
       "      <td>0</td>\n",
       "      <td>140000</td>\n",
       "    </tr>\n",
       "    <tr>\n",
       "      <th>4</th>\n",
       "      <td>60</td>\n",
       "      <td>8</td>\n",
       "      <td>2000</td>\n",
       "      <td>655</td>\n",
       "      <td>836</td>\n",
       "      <td>19782</td>\n",
       "      <td>1</td>\n",
       "      <td>0</td>\n",
       "      <td>0</td>\n",
       "      <td>250000</td>\n",
       "    </tr>\n",
       "  </tbody>\n",
       "</table>\n",
       "</div>"
      ],
      "text/plain": [
       "   MSSubClass  OverallQual  YearRemodAdd  BsmtFinSF1  GarageArea  \\\n",
       "0          60            7          2003         706         548   \n",
       "1          20            6          1976         978         460   \n",
       "2          60            7          2002         486         608   \n",
       "3          70            7          1970         216         642   \n",
       "4          60            8          2000         655         836   \n",
       "\n",
       "   RoomsAndArea  Neighborhood_NoRidge  Neighborhood_NridgHt  BsmtExposure_Mn  \\\n",
       "0         13680                     0                     0                0   \n",
       "1          7572                     0                     0                0   \n",
       "2         10716                     0                     0                1   \n",
       "3         12019                     0                     0                0   \n",
       "4         19782                     1                     0                0   \n",
       "\n",
       "   SalePrice  \n",
       "0     208500  \n",
       "1     181500  \n",
       "2     223500  \n",
       "3     140000  \n",
       "4     250000  "
      ]
     },
     "execution_count": 11,
     "metadata": {},
     "output_type": "execute_result"
    }
   ],
   "source": [
    "newdf.head()"
   ]
  },
  {
   "cell_type": "code",
   "execution_count": 13,
   "id": "d0d169e4",
   "metadata": {},
   "outputs": [
    {
     "name": "stdout",
     "output_type": "stream",
     "text": [
      "MSE :  1366084338.65\n"
     ]
    }
   ],
   "source": [
    "\n",
    "#Linear Regression : \n",
    "\n",
    "X_train, X_test, y_train, y_test = train_test_split(newdf.drop('SalePrice', axis=1), newdf['SalePrice'], test_size=0.2, random_state=42)\n",
    "\n",
    "\n",
    "lr_model = LinearRegression()\n",
    "\n",
    "# fit the model on the training data\n",
    "lr_model.fit(X_train, y_train)\n",
    "\n",
    "y_pred = lr_model.predict(X_test)\n",
    "\n",
    "mse = mean_squared_error(y_test, y_pred)\n",
    "\n",
    "print(f'MSE :  {mse:.2f}')\n",
    " \n",
    "\n"
   ]
  },
  {
   "cell_type": "code",
   "execution_count": 14,
   "id": "6768a036",
   "metadata": {},
   "outputs": [
    {
     "data": {
      "text/plain": [
       "1274910555.9161012"
      ]
     },
     "execution_count": 14,
     "metadata": {},
     "output_type": "execute_result"
    }
   ],
   "source": [
    "y_pred2 = lr_model.predict(X_train)\n",
    "\n",
    "mse2 = mean_squared_error(y_train, y_pred2)\n",
    "mse2\n"
   ]
  }
 ],
 "metadata": {
  "kernelspec": {
   "display_name": "Python 3 (ipykernel)",
   "language": "python",
   "name": "python3"
  },
  "language_info": {
   "codemirror_mode": {
    "name": "ipython",
    "version": 3
   },
   "file_extension": ".py",
   "mimetype": "text/x-python",
   "name": "python",
   "nbconvert_exporter": "python",
   "pygments_lexer": "ipython3",
   "version": "3.9.12"
  }
 },
 "nbformat": 4,
 "nbformat_minor": 5
}
